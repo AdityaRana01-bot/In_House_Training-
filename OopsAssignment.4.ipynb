{
 "cells": [
  {
   "cell_type": "markdown",
   "id": "9834fef6-6d80-4c21-b044-ab98cbf6cd1b",
   "metadata": {},
   "source": [
    "####                                                    \" Object oriented programming : \""
   ]
  },
  {
   "cell_type": "markdown",
   "id": "c0a73fad-524e-446e-8934-a7892d85a4d5",
   "metadata": {},
   "source": [
    "## 1. Define oop ( object oriented programming ) ?"
   ]
  },
  {
   "cell_type": "markdown",
   "id": "74e9385c-2025-4836-b363-5650dc6d4094",
   "metadata": {},
   "source": [
    "####    Oop's is a fundamental concept in python , helping developers to build modules and  organizing code that uses objects and classes to represent         real world entities and their behavior . \n"
   ]
  },
  {
   "cell_type": "code",
   "execution_count": 3,
   "id": "953c5813-f8ce-49fc-a082-96a08155ae3e",
   "metadata": {},
   "outputs": [
    {
     "name": "stdout",
     "output_type": "stream",
     "text": [
      "Reetak is 20 years old.\n"
     ]
    }
   ],
   "source": [
    "class person():\n",
    "      def __init__(self, name, age):\n",
    "          self.name = name\n",
    "          self.age = age\n",
    "p1=person(\"Reetak\", 20)\n",
    "print(p1.name + \" is \" + str(p1.age) + \" years old.\")"
   ]
  },
  {
   "cell_type": "markdown",
   "id": "674267de-3b74-4aa1-b73b-3d61386cef17",
   "metadata": {},
   "source": [
    "## 2. What is class and object in oop's ?"
   ]
  },
  {
   "cell_type": "markdown",
   "id": "1594aa62-d9e7-4a44-8ad7-e07d18547b31",
   "metadata": {
    "jp-MarkdownHeadingCollapsed": true
   },
   "source": [
    "#### A class is a collection of ojects . Mainly classes are blueprint use for creating or making objectes .\n",
    "\n",
    "#### While , a Object is the instance of the class used to access the properties of the class . \n"
   ]
  },
  {
   "cell_type": "markdown",
   "id": "3346e320-ace4-4751-8836-fd087a33f53c",
   "metadata": {},
   "source": [
    "## 3. What is difference between abstraction and encapsulation ? "
   ]
  },
  {
   "cell_type": "markdown",
   "id": "f4cf5021-26bb-446e-95a9-db23966a9ba4",
   "metadata": {
    "jp-MarkdownHeadingCollapsed": true
   },
   "source": [
    "####  Now , abstraction is the process of hiding the implementation details from the users only the highlighted set of services provided to the user .\n",
    "\n",
    "#### While , encapsulation help to restrict the variables and methods access globally by making it private or protected."
   ]
  },
  {
   "cell_type": "markdown",
   "id": "8299305e-c370-4e61-ae9f-19a23348badf",
   "metadata": {},
   "source": [
    "## 4. Define inheritance in oop's ?"
   ]
  },
  {
   "cell_type": "markdown",
   "id": "f31eecea-dc87-4120-96ad-d484b9648e01",
   "metadata": {},
   "source": [
    "#### In inheritance, the child class acquires the properties and can access all the data members and functions defined in the parent class. A child class can also provide its specific implementation to the functions of the parent class"
   ]
  },
  {
   "cell_type": "markdown",
   "id": "98ee2d08-fd0f-414d-9ba4-732c19431ed5",
   "metadata": {},
   "source": [
    "## 5. what is polymorphism in oop's ?"
   ]
  },
  {
   "cell_type": "markdown",
   "id": "8d828746-9bcb-4757-a0f3-8f520cc4c814",
   "metadata": {},
   "source": [
    "#### Polymorphism means \" many forms \" . In oop's , it means using diff classes with same name but behave different . "
   ]
  },
  {
   "cell_type": "code",
   "execution_count": 1,
   "id": "c25fdd19-15dc-449d-8f3b-b4ba26864493",
   "metadata": {
    "scrolled": true
   },
   "outputs": [
    {
     "name": "stdout",
     "output_type": "stream",
     "text": [
      "Woof!\n",
      "Meow!\n"
     ]
    }
   ],
   "source": [
    "class Dog:\n",
    "    def speak(self):\n",
    "        return \"Woof!\"\n",
    "\n",
    "class Cat:\n",
    "    def speak(self):\n",
    "        return \"Meow!\"\n",
    "\n",
    "# Polymorphism in action\n",
    "for animal in [Dog(), Cat()]:\n",
    "    print(animal.speak())\n"
   ]
  },
  {
   "cell_type": "markdown",
   "id": "a087ee00-f013-4aed-93c7-38fff72e89af",
   "metadata": {},
   "source": [
    "## 6. what is constructor in opp's ?"
   ]
  },
  {
   "cell_type": "markdown",
   "id": "c6f7a2e1-a14e-4662-9cd0-645293d5ddb4",
   "metadata": {},
   "source": [
    "#### A constructor is a special method in a class used to create and initialize an object of a class. \n"
   ]
  },
  {
   "cell_type": "markdown",
   "id": "d8c2893d-fe76-4480-a8e5-3d31db41f782",
   "metadata": {},
   "source": [
    "## 7. What are the property of decorators in python ."
   ]
  },
  {
   "cell_type": "markdown",
   "id": "755da1aa-0836-4346-bd82-f052818f58cb",
   "metadata": {},
   "source": [
    "#### In python decorators modify the function in a simple way .\n",
    "\n",
    "####    Also , in python decorators are powerful and flexible. "
   ]
  },
  {
   "cell_type": "markdown",
   "id": "67654f0d-11f1-48f7-9b37-4d7ca78d3214",
   "metadata": {},
   "source": [
    "## 8. what does you my overloading in python ."
   ]
  },
  {
   "cell_type": "markdown",
   "id": "5ce64777-6fca-4d73-a391-78e8f537e29e",
   "metadata": {},
   "source": [
    "#### overloading always worked in the same method names but with different arguments."
   ]
  },
  {
   "cell_type": "code",
   "execution_count": 15,
   "id": "c96e457f-fcfc-4727-ad71-5ce3c6bf1528",
   "metadata": {
    "scrolled": true
   },
   "outputs": [
    {
     "name": "stdout",
     "output_type": "stream",
     "text": [
      "(9, 17)\n"
     ]
    }
   ],
   "source": [
    "class main:\n",
    "\tdef __init__(self, a, b):\n",
    "\t\tself.a = a\n",
    "\t\tself.b = b\n",
    "\n",
    "\tdef __add__(self, other):\n",
    "\t\treturn self.a + other.a, self.b + other.b\n",
    "\n",
    "x = main(4, 9)\n",
    "y = main(5, 8)\n",
    "z = x + y\n",
    "print(z)"
   ]
  },
  {
   "cell_type": "markdown",
   "id": "f9955f3d-9d62-4126-8386-dcf0c7e7e9e2",
   "metadata": {},
   "source": [
    "## 9.  What are advantages of oop's ."
   ]
  },
  {
   "cell_type": "markdown",
   "id": "cffb8c0f-eda3-4f4f-ace7-44445f7c504c",
   "metadata": {},
   "source": [
    "#### 1, make code easier to manage and maintain .\n",
    "#### 2, improve real world problem modeling towards objects and classes ."
   ]
  },
  {
   "cell_type": "markdown",
   "id": "03c1b044-189e-46d4-a908-01aedf456f7d",
   "metadata": {},
   "source": [
    "## 10. why polymorphism is important in oop's ."
   ]
  },
  {
   "cell_type": "markdown",
   "id": "b019fb45-a67f-46d3-bda9-1d313103d1ba",
   "metadata": {},
   "source": [
    "#### It help user to uses diff classes but with same name ."
   ]
  },
  {
   "cell_type": "markdown",
   "id": "38963be2-83df-43fe-8f3e-705aea5ebc99",
   "metadata": {},
   "source": [
    "## 11. What is abstract class in python ."
   ]
  },
  {
   "cell_type": "markdown",
   "id": "ef46d9bf-15bd-46d6-942e-4325e9206482",
   "metadata": {},
   "source": [
    "#### class that cannot be inherited by other classes ."
   ]
  },
  {
   "cell_type": "markdown",
   "id": "dc3aaf6c-d611-4fa7-937e-001e98e780db",
   "metadata": {},
   "source": [
    "## 12 . d/b class and instance variable ."
   ]
  },
  {
   "cell_type": "markdown",
   "id": "25d14bb8-9891-4bc3-ac06-38d6da2bee17",
   "metadata": {},
   "source": [
    "####  Class variables are shaped , whereas instance variables are unique to each instance ."
   ]
  },
  {
   "cell_type": "markdown",
   "id": "384e9225-55e3-4b26-bd03-e17350d3e616",
   "metadata": {},
   "source": [
    "## 13 . what is multiple inheritance."
   ]
  },
  {
   "cell_type": "markdown",
   "id": "e27e853e-70fa-4ded-b0a2-c97c50aa84d7",
   "metadata": {},
   "source": [
    "#### multiple inheritance is a class which is inherit by multiple number of parents and grandparents classes .\n"
   ]
  },
  {
   "cell_type": "markdown",
   "id": "790a03c2-2086-4f22-a7e0-208bb5cb2ef9",
   "metadata": {},
   "source": [
    "## 14. d/b str* and reper* ."
   ]
  },
  {
   "cell_type": "markdown",
   "id": "a2b37f44-32a6-430e-b036-2491795a2932",
   "metadata": {},
   "source": [
    "#### this are methods that give the refrence of string repersentation of object ."
   ]
  },
  {
   "cell_type": "markdown",
   "id": "c12bc83a-378b-4b76-a71f-ec727377d663",
   "metadata": {},
   "source": [
    "## 15. define super(). in python ."
   ]
  },
  {
   "cell_type": "markdown",
   "id": "38620c3f-daf3-4d9a-8e2d-d4378472a851",
   "metadata": {},
   "source": [
    "#### In python super(). maeans to give refrence of objects use in parents class ."
   ]
  },
  {
   "cell_type": "code",
   "execution_count": 5,
   "id": "97f67ee5-fc11-4059-857d-982c2b94dc33",
   "metadata": {},
   "outputs": [
    {
     "name": "stdout",
     "output_type": "stream",
     "text": [
      "vostro 3400 is a laptop of dell model!\n"
     ]
    }
   ],
   "source": [
    "class main:\n",
    "     def __init__(self, name):\n",
    "         self.name = name\n",
    "\n",
    "class result(main):\n",
    "     def __init__(self, name, model):\n",
    "         super().__init__(name)\n",
    "         self.model = model\n",
    "\n",
    "a1 = result(\"vostro 3400\", \"dell\")\n",
    "print(f\"{a1.name} is a laptop of {a1.model} model!\")"
   ]
  },
  {
   "cell_type": "markdown",
   "id": "4cbe7428-568f-4482-b77e-5957bbb4ce44",
   "metadata": {},
   "source": [
    "## 16. Define del*method in python ."
   ]
  },
  {
   "cell_type": "markdown",
   "id": "10f31f99-4786-4952-8349-0977eff65026",
   "metadata": {},
   "source": [
    "#### this method is used when an object of any class is being about to destroy ."
   ]
  },
  {
   "cell_type": "markdown",
   "id": "4db0e9ac-32d7-4b76-adda-931f55920372",
   "metadata": {},
   "source": [
    "## 17. define @staticmethod in oop's in python ."
   ]
  },
  {
   "cell_type": "markdown",
   "id": "ef4d08ad-ae90-425c-818c-9637211a16c4",
   "metadata": {},
   "source": [
    "#### This method is used to define a method inside a class like : (self),etc"
   ]
  },
  {
   "cell_type": "markdown",
   "id": "470d62f5-920d-43a6-af85-cf6ff127b79a",
   "metadata": {},
   "source": [
    "## 18. define @classmethod in oops ."
   ]
  },
  {
   "cell_type": "markdown",
   "id": "a56cda1c-2ae2-48a1-be74-6259b2449eaa",
   "metadata": {},
   "source": [
    "#### This method is used to define method that is bound to a class . like ,(cls):"
   ]
  },
  {
   "cell_type": "code",
   "execution_count": 6,
   "id": "8547aabf-5366-4a8d-a0e6-0d093ef6a810",
   "metadata": {},
   "outputs": [
    {
     "name": "stdout",
     "output_type": "stream",
     "text": [
      "total no of faculty members : 3\n"
     ]
    }
   ],
   "source": [
    "class faculty:  # created a class \n",
    "      total_faculty=0 \n",
    "      def __init__(self , name , department):\n",
    "          self.name = name\n",
    "          self.department = department\n",
    "          faculty.total_faculty += 1\n",
    "      @classmethod\n",
    "      def total(cls):  # here cls give refrence or define class .\n",
    "          print(f\"total no of faculty members : {cls.total_faculty}\")\n",
    "f1 = faculty(\"reetak\" , \" cse \")\n",
    "f2 = faculty(\"jatin\" , \" cse \")\n",
    "f3 = faculty(\"adii\" , \"ce \")\n",
    "\n",
    "faculty.total()"
   ]
  },
  {
   "cell_type": "markdown",
   "id": "a7daeb88-6625-423c-92f2-3bcd2ac821ca",
   "metadata": {},
   "source": [
    "## 19. Define *call method* in python ."
   ]
  },
  {
   "cell_type": "markdown",
   "id": "f0883dc0-cf5d-422a-8341-d950f0129016",
   "metadata": {},
   "source": [
    "#### This method is used to allow an object in class to be called like a function ."
   ]
  },
  {
   "cell_type": "markdown",
   "id": "1cca44fb-ef3f-4f46-b97c-7964dc0255cd",
   "metadata": {},
   "source": [
    "## 20. What is overriding in python ."
   ]
  },
  {
   "cell_type": "markdown",
   "id": "25080220-cea4-4fbe-afac-713c03b5cfed",
   "metadata": {},
   "source": [
    "#### It is ability of subclass to provide a specific implementation ."
   ]
  },
  {
   "cell_type": "code",
   "execution_count": null,
   "id": "1a61d517-ac7d-41aa-8624-23b8ce799b49",
   "metadata": {},
   "outputs": [],
   "source": []
  }
 ],
 "metadata": {
  "kernelspec": {
   "display_name": "Python 3 (ipykernel)",
   "language": "python",
   "name": "python3"
  },
  "language_info": {
   "codemirror_mode": {
    "name": "ipython",
    "version": 3
   },
   "file_extension": ".py",
   "mimetype": "text/x-python",
   "name": "python",
   "nbconvert_exporter": "python",
   "pygments_lexer": "ipython3",
   "version": "3.13.5"
  }
 },
 "nbformat": 4,
 "nbformat_minor": 5
}
