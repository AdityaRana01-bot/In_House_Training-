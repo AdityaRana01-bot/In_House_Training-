{
 "cells": [
  {
   "cell_type": "markdown",
   "id": "5c8b744c-e44f-4ad8-9f0d-568d4ab446ec",
   "metadata": {},
   "source": [
    "## Create a series:-"
   ]
  },
  {
   "cell_type": "markdown",
   "id": "8d599136-c07c-43fc-a667-27afb67c8784",
   "metadata": {},
   "source": [
    "### 1. Create a Pandas Series with values with values[10,20,30,40,50] and index[a,b,c,d,e]"
   ]
  },
  {
   "cell_type": "code",
   "execution_count": 8,
   "id": "ba34377f-5f00-4f00-a07c-a8e822e55f3b",
   "metadata": {},
   "outputs": [
    {
     "data": {
      "text/plain": [
       "a    10\n",
       "b    20\n",
       "c    30\n",
       "d    40\n",
       "e    50\n",
       "dtype: int64"
      ]
     },
     "execution_count": 8,
     "metadata": {},
     "output_type": "execute_result"
    }
   ],
   "source": [
    "import pandas as pd\n",
    "s1 = pd.Series([10, 20, 30, 40, 50], \n",
    "index=['a', 'b', 'c', 'd', 'e'])\n",
    "s1"
   ]
  },
  {
   "cell_type": "markdown",
   "id": "345f86b2-d6d6-43da-a168-4f0c2aa317f2",
   "metadata": {},
   "source": [
    "## Accessing Elements:- "
   ]
  },
  {
   "cell_type": "markdown",
   "id": "61de9f9c-59b7-4ce4-a208-c4f1e23d7e96",
   "metadata": {},
   "source": [
    "### 2. Access the third element of the series created in question 1. Access all elements from index 'b' to 'd'."
   ]
  },
  {
   "cell_type": "code",
   "execution_count": 5,
   "id": "7fd57b78-e556-4989-bd3a-7c00af5e3e6f",
   "metadata": {},
   "outputs": [
    {
     "data": {
      "text/plain": [
       "(np.int64(30),\n",
       " b    20\n",
       " c    30\n",
       " d    40\n",
       " dtype: int64)"
      ]
     },
     "execution_count": 5,
     "metadata": {},
     "output_type": "execute_result"
    }
   ],
   "source": [
    "third_element = s1.iloc[2]\n",
    "slice_bd = s1.loc['b':'d']\n",
    "third_element, slice_bd"
   ]
  },
  {
   "cell_type": "markdown",
   "id": "aa15483f-fbf8-4db7-8e70-596238d038d0",
   "metadata": {},
   "source": [
    "## Operations on Series:-"
   ]
  },
  {
   "cell_type": "markdown",
   "id": "91e5a1e2-e3d2-4069-97ca-b5af9328fef9",
   "metadata": {},
   "source": [
    "### 3. Add a series with values[1,2,3,4,5] to the series created in question 1. Multiply the series by 2."
   ]
  },
  {
   "cell_type": "code",
   "execution_count": 10,
   "id": "7fe53136-d61a-44be-8abf-7005a84e3228",
   "metadata": {},
   "outputs": [
    {
     "data": {
      "text/plain": [
       "(a    11\n",
       " b    22\n",
       " c    33\n",
       " d    44\n",
       " e    55\n",
       " dtype: int64,\n",
       " a     20\n",
       " b     40\n",
       " c     60\n",
       " d     80\n",
       " e    100\n",
       " dtype: int64)"
      ]
     },
     "execution_count": 10,
     "metadata": {},
     "output_type": "execute_result"
    }
   ],
   "source": [
    "s2 = pd.Series([1, 2, 3, 4, 5], \n",
    "index=['a', 'b', 'c', 'd', 'e'])\n",
    "added = s1 + s2\n",
    "multiplied = s1 * 2\n",
    "\n",
    "added, multiplied"
   ]
  },
  {
   "cell_type": "markdown",
   "id": "cf4093e0-c889-46b7-b09b-924db1b6a973",
   "metadata": {},
   "source": [
    "## Filtering values:-"
   ]
  },
  {
   "cell_type": "markdown",
   "id": "38f4915d-8d32-4459-a622-5bf678101727",
   "metadata": {},
   "source": [
    "### 4. Filter and print only the value greater then 30 from the series a forward fill to fill the missing value."
   ]
  },
  {
   "cell_type": "code",
   "execution_count": 11,
   "id": "f36a63f7-696c-44b8-a7fc-83a06a587fa0",
   "metadata": {},
   "outputs": [
    {
     "data": {
      "text/plain": [
       "d    40\n",
       "e    50\n",
       "dtype: int64"
      ]
     },
     "execution_count": 11,
     "metadata": {},
     "output_type": "execute_result"
    }
   ],
   "source": [
    "filtered = s1[s1 > 30]\n",
    "filtered"
   ]
  },
  {
   "cell_type": "markdown",
   "id": "a04d4702-5345-45f1-8580-102ea59c3520",
   "metadata": {},
   "source": [
    "## Missing Value:-"
   ]
  },
  {
   "cell_type": "markdown",
   "id": "c07be477-3101-4d13-a8e0-68c9a35c2d34",
   "metadata": {},
   "source": [
    "### 5. Create a new series with values [1,2,np.nan,4,5] and perform a forward fill the missing value."
   ]
  },
  {
   "cell_type": "code",
   "execution_count": 14,
   "id": "6e9eaa7f-58b2-4d71-b6aa-f13099a45ebe",
   "metadata": {},
   "outputs": [
    {
     "data": {
      "text/plain": [
       "Volvo     1.0\n",
       "BMW       2.0\n",
       "Audi      2.0\n",
       "Ferrai    4.0\n",
       "Tata      5.0\n",
       "dtype: float64"
      ]
     },
     "execution_count": 14,
     "metadata": {},
     "output_type": "execute_result"
    }
   ],
   "source": [
    "import numpy as np\n",
    "\n",
    "s3 = pd.Series([1, 2, np.nan, 4, 5], index=['Volvo', 'BMW', 'Audi', 'Ferrai', 'Tata'])\n",
    "ffill = s3.ffill()\n",
    "ffill\n"
   ]
  },
  {
   "cell_type": "markdown",
   "id": "66eb2325-7c71-4cca-9bac-de71f4b5d9da",
   "metadata": {},
   "source": [
    "## Statistics:-"
   ]
  },
  {
   "cell_type": "markdown",
   "id": "ab9dcb3b-7bbd-45b2-b1ca-20692ea3d39a",
   "metadata": {},
   "source": [
    "### 6. Calulate the mean and standard deviation of the series created in question 1."
   ]
  },
  {
   "cell_type": "code",
   "execution_count": 13,
   "id": "eb5febe8-046f-448d-9c7a-3ea8f1715b00",
   "metadata": {},
   "outputs": [
    {
     "data": {
      "text/plain": [
       "(np.float64(30.0), np.float64(15.811388300841896))"
      ]
     },
     "execution_count": 13,
     "metadata": {},
     "output_type": "execute_result"
    }
   ],
   "source": [
    "mean_s1 = s1.mean()\n",
    "std_s1 = s1.std()\n",
    "mean_s1, std_s1"
   ]
  },
  {
   "cell_type": "markdown",
   "id": "185aa2c4-0532-4715-8b62-62d4b41c445a",
   "metadata": {},
   "source": [
    "## Changing values:-"
   ]
  },
  {
   "cell_type": "markdown",
   "id": "0c006fb9-bed9-4fef-b914-d70a9dc18fc3",
   "metadata": {},
   "source": [
    "### 7. Update the value at index 'c' in the Series created in question 1 to 35."
   ]
  },
  {
   "cell_type": "code",
   "execution_count": 15,
   "id": "ba2c0da0-0451-448e-87e9-f2389132209e",
   "metadata": {},
   "outputs": [
    {
     "data": {
      "text/plain": [
       "a    10\n",
       "b    20\n",
       "c    35\n",
       "d    40\n",
       "e    50\n",
       "dtype: int64"
      ]
     },
     "execution_count": 15,
     "metadata": {},
     "output_type": "execute_result"
    }
   ],
   "source": [
    "s1_updated = s1.copy()\n",
    "s1_updated.at['c'] = 35\n",
    "s1_updated"
   ]
  },
  {
   "cell_type": "markdown",
   "id": "143979c1-70bc-4c13-92e0-716dab517af9",
   "metadata": {},
   "source": [
    "## Sorting:-"
   ]
  },
  {
   "cell_type": "markdown",
   "id": "1bb62571-130e-4772-8d7a-6e68b368a7d1",
   "metadata": {},
   "source": [
    "### 8. Sort the series created in the question 1 in descending order."
   ]
  },
  {
   "cell_type": "code",
   "execution_count": 16,
   "id": "1de3bd6f-2627-46da-9389-e5b057f041ae",
   "metadata": {},
   "outputs": [
    {
     "data": {
      "text/plain": [
       "e    50\n",
       "d    40\n",
       "c    30\n",
       "b    20\n",
       "a    10\n",
       "dtype: int64"
      ]
     },
     "execution_count": 16,
     "metadata": {},
     "output_type": "execute_result"
    }
   ],
   "source": [
    "sorted_desc = s1.sort_values(ascending=False)\n",
    "sorted_desc"
   ]
  },
  {
   "cell_type": "markdown",
   "id": "f836d302-2158-4cff-9bbe-e53c9702aee5",
   "metadata": {},
   "source": [
    "## Check for null values."
   ]
  },
  {
   "cell_type": "markdown",
   "id": "77b6d765-5cbf-4e8e-b5ff-989260aeb030",
   "metadata": {},
   "source": [
    "### 9. Check if there are any null values in the series created in question 5."
   ]
  },
  {
   "cell_type": "code",
   "execution_count": 17,
   "id": "576a7eae-4fc2-42bf-a643-cfcc8b15739a",
   "metadata": {},
   "outputs": [
    {
     "data": {
      "text/plain": [
       "np.True_"
      ]
     },
     "execution_count": 17,
     "metadata": {},
     "output_type": "execute_result"
    }
   ],
   "source": [
    "s3.isnull().any()"
   ]
  },
  {
   "cell_type": "markdown",
   "id": "e7a68428-a496-42de-8b3a-dd832a6552ff",
   "metadata": {},
   "source": [
    "## Combining Series:-"
   ]
  },
  {
   "cell_type": "markdown",
   "id": "9d2a2cef-5c77-4806-b528-96ff6ddbed28",
   "metadata": {},
   "source": [
    "### 10. Create two series with different values but some common indices.Concatenate them into a single series."
   ]
  },
  {
   "cell_type": "code",
   "execution_count": 19,
   "id": "496508b3-1c7e-48a5-8ccb-a5d04d480619",
   "metadata": {},
   "outputs": [
    {
     "data": {
      "text/plain": [
       "b    100\n",
       "c    200\n",
       "f    300\n",
       "a     10\n",
       "b     20\n",
       "c     30\n",
       "dtype: int64"
      ]
     },
     "execution_count": 19,
     "metadata": {},
     "output_type": "execute_result"
    }
   ],
   "source": [
    "s4 = pd.Series([100, 200, 300], index=['b', 'c', 'f'])\n",
    "s5 = pd.Series([10, 20, 30], index=['a', 'b', 'c'])\n",
    "combined = pd.concat([s4, s5])\n",
    "combined"
   ]
  },
  {
   "cell_type": "markdown",
   "id": "b5ee2a8e-f5c4-4095-a4c3-45277e0624ce",
   "metadata": {},
   "source": [
    "## Renaming index:-"
   ]
  },
  {
   "cell_type": "markdown",
   "id": "8f58137e-1f3e-45c5-9f2a-dc4e5873d6dd",
   "metadata": {},
   "source": [
    "### 11. Rename the index of the series created in question 1 to[apple,banana,cherry,date,elderberry]."
   ]
  },
  {
   "cell_type": "code",
   "execution_count": 20,
   "id": "50e5325b-7e5e-46b5-be10-9ca06fb52b64",
   "metadata": {},
   "outputs": [
    {
     "data": {
      "text/plain": [
       "apple         10\n",
       "banana        20\n",
       "cherry        30\n",
       "date          40\n",
       "elderberry    50\n",
       "dtype: int64"
      ]
     },
     "execution_count": 20,
     "metadata": {},
     "output_type": "execute_result"
    }
   ],
   "source": [
    "s1_renamed = s1.copy()\n",
    "s1_renamed.index = ['apple', 'banana', 'cherry', 'date', 'elderberry']\n",
    "s1_renamed"
   ]
  },
  {
   "cell_type": "markdown",
   "id": "7daceb0e-67aa-4866-b7cf-48a6b516d2c8",
   "metadata": {},
   "source": [
    "## Basic Operations:"
   ]
  },
  {
   "cell_type": "code",
   "execution_count": 21,
   "id": "93403623-4e86-4823-8c4d-9f974119b853",
   "metadata": {},
   "outputs": [
    {
     "name": "stdout",
     "output_type": "stream",
     "text": [
      "<class 'pandas.core.frame.DataFrame'>\n",
      "RangeIndex: 5 entries, 0 to 4\n",
      "Columns: 3 entries, Name to Score\n",
      "dtypes: int64(2), object(1)\n",
      "memory usage: 252.0+ bytes\n"
     ]
    },
    {
     "data": {
      "text/plain": [
       "(      Name  Age  Score\n",
       " 0    Alice   24     85\n",
       " 1      Bob   27     92\n",
       " 2  Charlie   22     88\n",
       " 3    David   32     76\n",
       " 4      Eva   29     95,\n",
       " 0    24\n",
       " 1    27\n",
       " 2    22\n",
       " 3    32\n",
       " 4    29\n",
       " Name: Age, dtype: int64)"
      ]
     },
     "execution_count": 21,
     "metadata": {},
     "output_type": "execute_result"
    }
   ],
   "source": [
    "df = pd.DataFrame({\n",
    "    'Name': ['Alice', 'Bob', 'Charlie', 'David', 'Eva'],\n",
    "    'Age': [24, 27, 22, 32, 29],\n",
    "    'Score': [85, 92, 88, 76, 95]\n",
    "})\n",
    "head_df = df.head()\n",
    "info_df = df.info(verbose=False)\n",
    "ages = df['Age']\n",
    "\n",
    "head_df, ages"
   ]
  },
  {
   "cell_type": "markdown",
   "id": "2d1429e6-cd95-4051-a8e1-d1b94532a6a5",
   "metadata": {},
   "source": [
    "## Data"
   ]
  }
 ],
 "metadata": {
  "kernelspec": {
   "display_name": "Python 3 (ipykernel)",
   "language": "python",
   "name": "python3"
  },
  "language_info": {
   "codemirror_mode": {
    "name": "ipython",
    "version": 3
   },
   "file_extension": ".py",
   "mimetype": "text/x-python",
   "name": "python",
   "nbconvert_exporter": "python",
   "pygments_lexer": "ipython3",
   "version": "3.13.5"
  }
 },
 "nbformat": 4,
 "nbformat_minor": 5
}
