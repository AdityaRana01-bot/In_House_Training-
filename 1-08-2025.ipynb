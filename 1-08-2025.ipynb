{
 "cells": [
  {
   "cell_type": "code",
   "execution_count": 15,
   "id": "73d41383-ca22-4eae-9e5d-2bd74fff5a7d",
   "metadata": {},
   "outputs": [
    {
     "name": "stdout",
     "output_type": "stream",
     "text": [
      "   one  two  three\n",
      "a   10   50     90\n",
      "b   20   60    100\n",
      "c   30   70    110\n",
      "d   40   80    120\n"
     ]
    }
   ],
   "source": [
    "import pandas as pd\n",
    "d = {\n",
    "   'one': pd.Series([10,20,30,40], index=['a','b','c','d']),\n",
    "   'two': pd.Series([50,60,70,80], index=['a','b','c','d']),\n",
    "   'three': pd.Series([90,100,110,120], index=['a','b','c','d'])\n",
    "}\n",
    "df = pd.DataFrame(d)\n",
    "print(df)"
   ]
  },
  {
   "cell_type": "markdown",
   "id": "12f84e43-5444-43d7-94ce-dc71a9fedc10",
   "metadata": {},
   "source": [
    "## Working with missing data:-"
   ]
  },
  {
   "cell_type": "markdown",
   "id": "0e994136-d6f7-4219-8e2c-540a862daa90",
   "metadata": {},
   "source": [
    "## 1. Detecting missing values\n",
    "## 2. Dropping missing values"
   ]
  },
  {
   "cell_type": "code",
   "execution_count": 6,
   "id": "3f8b5f56-b219-45f5-ae71-b7a7110a283d",
   "metadata": {},
   "outputs": [
    {
     "name": "stdout",
     "output_type": "stream",
     "text": [
      "     A    B     C\n",
      "3  4.0  8.0  12.0\n",
      "***********************\n",
      "***********************\n",
      "Empty DataFrame\n",
      "Columns: []\n",
      "Index: [0, 1, 2, 3]\n"
     ]
    }
   ],
   "source": [
    "import pandas as pd\n",
    "import numpy as np\n",
    "df_dropped_rows = df.dropna()\n",
    "print(df_dropped_rows)\n",
    "print(\"***********************\")\n",
    "print(\"***********************\")\n",
    "df_dropped_columns = df.dropna(axis=1)\n",
    "print(df_dropped_columns)"
   ]
  },
  {
   "cell_type": "markdown",
   "id": "ba770b29-cfe6-4d2f-afc4-ee979024cc28",
   "metadata": {},
   "source": [
    "## 3. Filling missing values\n",
    "## 4. Replacing missing values"
   ]
  },
  {
   "cell_type": "code",
   "execution_count": null,
   "id": "7049da3f-62ff-43dd-acbf-b78797abda3b",
   "metadata": {},
   "outputs": [],
   "source": [
    "import pandas as pd\n",
    "import numpy as np\n",
    "missing_count = df.isnull().sum()\n",
    "print(\"Count of missing values using isnull().sum():\")\n",
    "print(missing_count)\n",
    "print(\"**************\")\n",
    "print(\"*****************\")\n"
   ]
  },
  {
   "cell_type": "markdown",
   "id": "1d3bcc76-194f-4787-ba84-1bfb827a0eb2",
   "metadata": {},
   "source": [
    "## 5. Interploting missing values\n",
    "## 6. Counting missing values :-\n",
    "### (a) isnull().sum():This rxpression returns the count of missing valuse in each column of the data frame.\n",
    "### (b) count():This function returns are count of non-missing value in each column."
   ]
  },
  {
   "cell_type": "code",
   "execution_count": null,
   "id": "b939ceb8-f5c5-43b2-a3f9-53b8948b8bc1",
   "metadata": {},
   "outputs": [],
   "source": []
  },
  {
   "cell_type": "code",
   "execution_count": 2,
   "id": "68160d9f-97de-4660-a9a6-c7d3cf9b3d9a",
   "metadata": {},
   "outputs": [
    {
     "name": "stdout",
     "output_type": "stream",
     "text": [
      "     A    B     C\n",
      "0  1.0  NaN   NaN\n",
      "1  2.0  NaN  10.0\n",
      "2  NaN  NaN  11.0\n",
      "3  4.0  8.0  12.0\n",
      "       A      B      C\n",
      "0  False   True   True\n",
      "1  False   True  False\n",
      "2   True   True  False\n",
      "3  False  False  False\n",
      "A    True\n",
      "B    True\n",
      "C    True\n",
      "dtype: bool\n",
      "A    False\n",
      "B    False\n",
      "C    False\n",
      "dtype: bool\n"
     ]
    }
   ],
   "source": [
    "import pandas as pd\n",
    "import numpy as np\n",
    "data = {'A': [1,2, np.nan, 4],\n",
    "        'B': [np.nan, np.nan, np.nan,8],\n",
    "        'C': [np.nan, 10, 11, 12]}\n",
    "df = pd.DataFrame(data)\n",
    "print(df)\n",
    "print(df.isnull())\n",
    "print(df.isnull().any())\n",
    "print(df.isnull().all())"
   ]
  },
  {
   "cell_type": "code",
   "execution_count": 3,
   "id": "a90a5356-7d72-44fe-b48e-43b8d04cd1f1",
   "metadata": {},
   "outputs": [
    {
     "name": "stdout",
     "output_type": "stream",
     "text": [
      "     A    B     C\n",
      "0  1.0  8.0   8.0\n",
      "1  2.0  8.0  10.0\n",
      "2  8.0  8.0  11.0\n",
      "3  4.0  8.0  12.0\n",
      "          A    B     C\n",
      "0  1.000000  8.0  11.0\n",
      "1  2.000000  8.0  10.0\n",
      "2  2.333333  8.0  11.0\n",
      "3  4.000000  8.0  12.0\n",
      "     A    B     C\n",
      "0  1.0  8.0  10.0\n",
      "1  2.0  8.0  10.0\n",
      "2  4.0  8.0  11.0\n",
      "3  4.0  8.0  12.0\n"
     ]
    },
    {
     "name": "stderr",
     "output_type": "stream",
     "text": [
      "C:\\Users\\Aditya Rana\\AppData\\Local\\Temp\\ipykernel_13448\\4093263524.py:11: FutureWarning: DataFrame.fillna with 'method' is deprecated and will raise in a future version. Use obj.ffill() or obj.bfill() instead.\n",
      "  c=df.fillna(method='bfill')\n"
     ]
    }
   ],
   "source": [
    "import pandas as pd\n",
    "import numpy as np\n",
    "data = {'A': [1,2, np.nan, 4],\n",
    "        'B': [np.nan, np.nan, np.nan,8],\n",
    "        'C': [np.nan, 10, 11, 12]}\n",
    "df = pd.DataFrame(data)\n",
    "a=df.fillna(8)\n",
    "print(a)\n",
    "b=df.fillna(df.mean())\n",
    "print(b)\n",
    "c=df.fillna(method='bfill')\n",
    "print(c)"
   ]
  },
  {
   "cell_type": "code",
   "execution_count": 1,
   "id": "f2a75524-a969-42e7-a0d9-899e52a601d5",
   "metadata": {},
   "outputs": [
    {
     "ename": "_IncompleteInputError",
     "evalue": "incomplete input (920737142.py, line 7)",
     "output_type": "error",
     "traceback": [
      "  \u001b[36mCell\u001b[39m\u001b[36m \u001b[39m\u001b[32mIn[1]\u001b[39m\u001b[32m, line 7\u001b[39m\n\u001b[31m    \u001b[39m\n    ^\n\u001b[31m_IncompleteInputError\u001b[39m\u001b[31m:\u001b[39m incomplete input\n"
     ]
    }
   ],
   "source": [
    "import pandas as pd\n",
    "import numpy as np\n",
    "data ={\n",
    "    \"Name\" : [\"John\",\"Emma\", \"Ryan\"],\n",
    "    \"Age\"  :[25,24,30],\n",
    "    \"City\" : [\"New York \" ,\"Paris\", \"Delhi\"]\n",
    "    \n",
    "    "
   ]
  },
  {
   "cell_type": "code",
   "execution_count": null,
   "id": "9bed173f-01d8-4146-a4f8-8b054a838453",
   "metadata": {},
   "outputs": [],
   "source": []
  }
 ],
 "metadata": {
  "kernelspec": {
   "display_name": "Python 3 (ipykernel)",
   "language": "python",
   "name": "python3"
  },
  "language_info": {
   "codemirror_mode": {
    "name": "ipython",
    "version": 3
   },
   "file_extension": ".py",
   "mimetype": "text/x-python",
   "name": "python",
   "nbconvert_exporter": "python",
   "pygments_lexer": "ipython3",
   "version": "3.13.5"
  }
 },
 "nbformat": 4,
 "nbformat_minor": 5
}
