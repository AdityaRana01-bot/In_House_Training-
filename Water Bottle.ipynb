{
 "cells": [
  {
   "cell_type": "code",
   "execution_count": null,
   "id": "3c5d68b7-f232-4a5e-9dd9-560973bec771",
   "metadata": {},
   "outputs": [],
   "source": [
    "total_bottles = int(input(\"Enter total water bottles: \"))\n",
    "daily_drink = int(input(\"Enter bottles you drink per day: \"))\n",
    "\n",
    "day = 1\n",
    "\n",
    "while total_bottles > 0:\n",
    "    if total_bottles >= daily_drink:\n",
    "        consumed = daily_drink\n",
    "    else:\n",
    "        consumed = total_bottles\n",
    "\n",
    "    total_bottles -= consumed\n",
    "\n",
    "    print(f\"Day {day}: Drank {consumed} bottle{'s' if consumed > 1 else ''}. {total_bottles} left.\")\n",
    "    day += 1\n",
    "\n",
    "print(\"No more bottles left!\")"
   ]
  }
 ],
 "metadata": {
  "kernelspec": {
   "display_name": "Python 3 (ipykernel)",
   "language": "python",
   "name": "python3"
  },
  "language_info": {
   "codemirror_mode": {
    "name": "ipython",
    "version": 3
   },
   "file_extension": ".py",
   "mimetype": "text/x-python",
   "name": "python",
   "nbconvert_exporter": "python",
   "pygments_lexer": "ipython3",
   "version": "3.13.5"
  }
 },
 "nbformat": 4,
 "nbformat_minor": 5
}
