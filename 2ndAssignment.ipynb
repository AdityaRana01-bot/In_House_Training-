{
 "cells": [
  {
   "cell_type": "markdown",
   "id": "d07694ce-d6e5-48c2-a212-9e2c90ed34a7",
   "metadata": {},
   "source": [
    "# 2nd Assignment Programs"
   ]
  },
  {
   "cell_type": "markdown",
   "id": "ec07ebc7-945c-44d2-b8e7-068f1e78a154",
   "metadata": {},
   "source": [
    "### 11. Write a code to create a tuple with the elements 100,200,300 print it."
   ]
  },
  {
   "cell_type": "code",
   "execution_count": 25,
   "id": "a8806f70-af08-4944-90e2-f7e82c7a698a",
   "metadata": {},
   "outputs": [
    {
     "name": "stdout",
     "output_type": "stream",
     "text": [
      "(100, 200, 300)\n"
     ]
    }
   ],
   "source": [
    "Numbers=(100,200,300)\n",
    "print(Numbers)"
   ]
  },
  {
   "cell_type": "markdown",
   "id": "14b81fa2-e3ec-40eb-9283-1d9d5e4763ee",
   "metadata": {},
   "source": [
    "### 12. Write a code to access the second-to-last element of the tuple(\"red\",\"green\",\"blue\",\"yellow\")."
   ]
  },
  {
   "cell_type": "code",
   "execution_count": 9,
   "id": "c00ffc5b-c186-45e8-934a-5f3cf437f14d",
   "metadata": {},
   "outputs": [
    {
     "name": "stdout",
     "output_type": "stream",
     "text": [
      "The second to last elements is: yellow\n"
     ]
    }
   ],
   "source": [
    "Colour=('red','green','blue','yellow')\n",
    "second_to_last=Colour[-1]\n",
    "print(\"The second to last elements is:\",second_to_last)"
   ]
  },
  {
   "cell_type": "markdown",
   "id": "5e3bc841-2dfd-4a8f-ae55-00f145555734",
   "metadata": {},
   "source": [
    "### 13. Write a code to find the minimum number in the tupe (10,20,5,15)."
   ]
  },
  {
   "cell_type": "code",
   "execution_count": 11,
   "id": "589c51d1-b4e0-4934-873f-a73da42e9958",
   "metadata": {},
   "outputs": [
    {
     "name": "stdout",
     "output_type": "stream",
     "text": [
      "5\n"
     ]
    }
   ],
   "source": [
    "a=(10,20,5,15)\n",
    "print(min(a))"
   ]
  },
  {
   "cell_type": "markdown",
   "id": "060410f3-1605-438a-be83-7f1827af485e",
   "metadata": {},
   "source": [
    "### 14. Write a code to find index of the element \"cat\" in the tuple (\"dog\",\"cat\",\"rabbit\")."
   ]
  },
  {
   "cell_type": "code",
   "execution_count": 2,
   "id": "435f1b02-9825-4c3e-a896-ae282e05806d",
   "metadata": {},
   "outputs": [
    {
     "name": "stdout",
     "output_type": "stream",
     "text": [
      "1\n"
     ]
    }
   ],
   "source": [
    "a=('Dog','Cat','Rabbit')\n",
    "index=a.index('Cat')\n",
    "print(index)"
   ]
  },
  {
   "cell_type": "markdown",
   "id": "90d6339a-f068-4ced-82dc-d6a1c8a85aa5",
   "metadata": {},
   "source": [
    "### 15. Write a code to create a tuple contaning three different fruits and check if \"kiwi\" in it."
   ]
  },
  {
   "cell_type": "code",
   "execution_count": 13,
   "id": "ea921437-676b-45f4-84df-e52fffe9eafd",
   "metadata": {},
   "outputs": [
    {
     "name": "stdout",
     "output_type": "stream",
     "text": [
      "True\n"
     ]
    }
   ],
   "source": [
    "fruits=('Apple','Banana','Kiwi')\n",
    "print('Kiwi' in fruits)"
   ]
  },
  {
   "cell_type": "markdown",
   "id": "3bf566bb-70e5-404e-b727-7183228cb2df",
   "metadata": {},
   "source": [
    "### 16. Write a code to create a set with the elements 'a',b','c' and print it."
   ]
  },
  {
   "cell_type": "code",
   "execution_count": 17,
   "id": "58c0cd11-298f-451a-871b-97980549bcbe",
   "metadata": {},
   "outputs": [
    {
     "name": "stdout",
     "output_type": "stream",
     "text": [
      "{'c', 'b', 'a', 'd'}\n"
     ]
    }
   ],
   "source": [
    "Set={'a','b','c','d'}\n",
    "print(Set)"
   ]
  },
  {
   "cell_type": "markdown",
   "id": "1ab27f8a-0242-4e2f-a9fe-3c3a2ffb19b8",
   "metadata": {},
   "source": [
    "### 17. Write a code to clear all elements from the set {1,2,3,4,5}."
   ]
  },
  {
   "cell_type": "code",
   "execution_count": 20,
   "id": "7ff1ca78-4401-4987-b325-145e7c1e9dd3",
   "metadata": {},
   "outputs": [
    {
     "name": "stdout",
     "output_type": "stream",
     "text": [
      "set()\n"
     ]
    }
   ],
   "source": [
    "Set={1,2,3,4}\n",
    "Set.clear()\n",
    "print(Set)"
   ]
  },
  {
   "cell_type": "markdown",
   "id": "4e28dbef-2c5b-40e9-a229-15d2e1acc508",
   "metadata": {},
   "source": [
    "### 18. Write a code to remove the element 4 from the set {1,2,3,4,5,6}."
   ]
  },
  {
   "cell_type": "code",
   "execution_count": 22,
   "id": "32a676db-5bbe-4920-8a3f-b63dc69bf7ff",
   "metadata": {},
   "outputs": [
    {
     "name": "stdout",
     "output_type": "stream",
     "text": [
      "{1, 2, 3, 5, 6}\n"
     ]
    }
   ],
   "source": [
    "a={1,2,3,4,5,6}\n",
    "a.remove(4)\n",
    "print(a)"
   ]
  },
  {
   "cell_type": "markdown",
   "id": "085a3e5c-0f6e-4e96-b499-cba109440b29",
   "metadata": {},
   "source": [
    "### 19. Write a code to find the union of two sets {1,2,3} and {3,4,5}."
   ]
  },
  {
   "cell_type": "code",
   "execution_count": 25,
   "id": "53256631-a3ed-4fd9-8fc0-0ad653488216",
   "metadata": {},
   "outputs": [
    {
     "name": "stdout",
     "output_type": "stream",
     "text": [
      "{1, 2, 3, 4, 5, 6}\n"
     ]
    }
   ],
   "source": [
    "a={1,2,3}\n",
    "b={4,5,6}\n",
    "union_set=a.union(b)\n",
    "print(union_set)"
   ]
  },
  {
   "cell_type": "markdown",
   "id": "b4e7602c-b944-4418-882d-c9ce9bdb522b",
   "metadata": {},
   "source": [
    "### 20. Write a code to fine the intersection of two sets {1,2,3,} and {4,5,6} and print it ."
   ]
  },
  {
   "cell_type": "code",
   "execution_count": 26,
   "id": "a969228f-3bbd-447d-95de-aa7804711b36",
   "metadata": {},
   "outputs": [
    {
     "name": "stdout",
     "output_type": "stream",
     "text": [
      "{2, 3}\n"
     ]
    }
   ],
   "source": [
    "a={1,2,3}\n",
    "b={2,3,4}\n",
    "intersection_set=a.intersection(b)\n",
    "print(intersection_set)"
   ]
  },
  {
   "cell_type": "markdown",
   "id": "87c067a5-b99f-4d0e-87b9-d59c32977cf7",
   "metadata": {},
   "source": [
    "### 21. Write a code to create a dictionary with the keys \"Name\",\"age\",\"city\" and print it."
   ]
  },
  {
   "cell_type": "code",
   "execution_count": 27,
   "id": "b30ce880-49d7-48e4-8829-a83ab99ed7ff",
   "metadata": {},
   "outputs": [
    {
     "name": "stdout",
     "output_type": "stream",
     "text": [
      "{'Name': 'Aditya Rana', 'Age': '19', 'City': 'Chamba'}\n"
     ]
    }
   ],
   "source": [
    "a={\"Name\":\"Aditya Rana\",\"Age\":\"19\",\"City\":\"Chamba\"}\n",
    "print(a)"
   ]
  },
  {
   "cell_type": "markdown",
   "id": "6b9fc60f-7637-4c3c-97c6-22974d6464ac",
   "metadata": {},
   "source": [
    "### 22. Write a code to add a new key-value pair \"countey\":\"USA\" to the dictionary {\"Name\":,John\",\"Age\":\"30\"}"
   ]
  },
  {
   "cell_type": "code",
   "execution_count": 33,
   "id": "fde000bb-e062-42ca-bf35-ebc8008febd5",
   "metadata": {},
   "outputs": [
    {
     "name": "stdout",
     "output_type": "stream",
     "text": [
      "{'Name': 'John', 'Age': '25', 'Country': 'USA'}\n"
     ]
    }
   ],
   "source": [
    "a={\"Name\":\"John\",\"Age\":\"25\"}\n",
    "a[\"Country\"]=\"USA\"\n",
    "print(a)"
   ]
  },
  {
   "cell_type": "markdown",
   "id": "decb6030-894e-432d-84c6-bd5ce0074e7e",
   "metadata": {},
   "source": [
    "### 23. Write a code to remove the key \"age\" from the dictionary ,{\"Name\":,Alice\",\"Age\":\"23\"}"
   ]
  },
  {
   "cell_type": "code",
   "execution_count": 23,
   "id": "fd441783-c075-4bb1-a78c-c6281a22f81b",
   "metadata": {},
   "outputs": [
    {
     "name": "stdout",
     "output_type": "stream",
     "text": [
      "{'Name': 'Bob', 'City': 'New York'}\n"
     ]
    }
   ],
   "source": [
    "a={\"Name\":\"Bob\",\"Age\":\"22\",\"City\":\"New York\"}\n",
    "del a[\"Age\"]\n",
    "print(a)"
   ]
  },
  {
   "cell_type": "markdown",
   "id": "abd1ed4b-f1a1-4bb9-9435-76cc72ef51bd",
   "metadata": {},
   "source": [
    "### 24. Write a code to access the value associated with the key \"Name\":\"Alice\";\"Age\":\"20\"."
   ]
  },
  {
   "cell_type": "code",
   "execution_count": 2,
   "id": "5b1b3c20-8eb7-49cc-8da0-80738edf75d4",
   "metadata": {},
   "outputs": [
    {
     "name": "stdout",
     "output_type": "stream",
     "text": [
      "20\n"
     ]
    }
   ],
   "source": [
    "a={\"Name\":\"Alice\",\"Age\":\"20\"}\n",
    "name = a[\"Age\"]\n",
    "print(name)"
   ]
  },
  {
   "cell_type": "markdown",
   "id": "7176f921-5e5f-4d54-aaa9-51f78473bc0e",
   "metadata": {},
   "source": [
    "### 25. Write a code to check if the key \"city\" exist in the dictionary {\"Name\":\"Alice\",\"Age\":\"20,\"City\":\"New York\"}."
   ]
  },
  {
   "cell_type": "code",
   "execution_count": 3,
   "id": "988b5281-9bda-4d43-8917-bd6649a97444",
   "metadata": {},
   "outputs": [
    {
     "name": "stdout",
     "output_type": "stream",
     "text": [
      "True\n"
     ]
    }
   ],
   "source": [
    "a={\"Name\":\"Alice\",\"City\":\"New York\"}\n",
    "print (\"City\" in a)"
   ]
  },
  {
   "cell_type": "markdown",
   "id": "cf8733c8-cace-40e0-83e6-46c5f23acfc2",
   "metadata": {},
   "source": [
    "### 26. Write a code to create a list ,a tuple and dictionary,and print them all.  "
   ]
  },
  {
   "cell_type": "code",
   "execution_count": 6,
   "id": "c83a8301-9fd8-4a5a-993a-87cf9225ba60",
   "metadata": {},
   "outputs": [
    {
     "name": "stdout",
     "output_type": "stream",
     "text": [
      "{'Name': 'Edan', 'Age': '20', 'City': 'Pantagone'}\n",
      "[1, 2, 3, 4, 5, 6]\n",
      "(1000, 2000, 3000)\n"
     ]
    }
   ],
   "source": [
    "a={\"Name\":\"Edan\",\"Age\":\"20\",\"City\": \"Pantagone\"}\n",
    "b=[1,2,3,4,5,6]\n",
    "c=(1000,2000,3000)\n",
    "print(a)\n",
    "print(b)\n",
    "print(c)"
   ]
  },
  {
   "cell_type": "markdown",
   "id": "bc310790-c825-4601-b0be-3915f15070f3",
   "metadata": {},
   "source": [
    "### 27. Write a code create a list of 5 random numbers between 1 and 100,sort it in ascending order, and print the result."
   ]
  },
  {
   "cell_type": "code",
   "execution_count": 1,
   "id": "3106689d-b24b-432a-9723-de466a7a3367",
   "metadata": {},
   "outputs": [
    {
     "name": "stdout",
     "output_type": "stream",
     "text": [
      "[56, 59, 70, 84, 89]\n"
     ]
    }
   ],
   "source": [
    "import random\n",
    "numbers = random.sample(range(1,101,),5)\n",
    "numbers.sort()\n",
    "print(numbers)"
   ]
  },
  {
   "cell_type": "markdown",
   "id": "5f4569b8-f9a6-4f8b-8f14-32ab398486cd",
   "metadata": {},
   "source": [
    "### 28. Write a code to create a list with strings and print the element at the third index."
   ]
  },
  {
   "cell_type": "code",
   "execution_count": 3,
   "id": "f82d85d6-7905-4d43-bcbc-305ceff6444d",
   "metadata": {},
   "outputs": [
    {
     "name": "stdout",
     "output_type": "stream",
     "text": [
      "Date\n"
     ]
    }
   ],
   "source": [
    "words =[\"Apple\",\"Banana\",\"Cherry\",\"Date\",\"fig\"]\n",
    "print(words[3])"
   ]
  },
  {
   "cell_type": "markdown",
   "id": "4bfc0e06-ca5e-4faf-84fe-64ebb61f28cc",
   "metadata": {},
   "source": [
    "### 29. Witer a code to combine two dictionaries into one and print the result."
   ]
  },
  {
   "cell_type": "code",
   "execution_count": 4,
   "id": "b24a1589-9834-49d8-a23c-5afd4eea5bf7",
   "metadata": {},
   "outputs": [
    {
     "name": "stdout",
     "output_type": "stream",
     "text": [
      "{'a': 1, 'b': 2, 'c': 3, 'd': 4}\n"
     ]
    }
   ],
   "source": [
    "dict1={\"a\":1,\"b\":2}\n",
    "dict2 ={\"c\":3,\"d\":4}\n",
    "combined ={**dict1,**dict2}\n",
    "print(combined)"
   ]
  },
  {
   "cell_type": "markdown",
   "id": "4b6ff25d-6332-40c2-bade-124ab0b814a6",
   "metadata": {},
   "source": [
    "### 30. Write a code to convert a list of string into a set."
   ]
  },
  {
   "cell_type": "code",
   "execution_count": 6,
   "id": "42d2dc68-d2c1-45d2-a9aa-f20d0332447f",
   "metadata": {},
   "outputs": [
    {
     "name": "stdout",
     "output_type": "stream",
     "text": [
      "{'Cherry', 'Banana', 'Apple'}\n"
     ]
    }
   ],
   "source": [
    "string =[\"Apple\",\"Banana\",\"Cherry\"]\n",
    "string =set(string)\n",
    "print(string)"
   ]
  }
 ],
 "metadata": {
  "kernelspec": {
   "display_name": "Python 3 (ipykernel)",
   "language": "python",
   "name": "python3"
  },
  "language_info": {
   "codemirror_mode": {
    "name": "ipython",
    "version": 3
   },
   "file_extension": ".py",
   "mimetype": "text/x-python",
   "name": "python",
   "nbconvert_exporter": "python",
   "pygments_lexer": "ipython3",
   "version": "3.13.5"
  }
 },
 "nbformat": 4,
 "nbformat_minor": 5
}
