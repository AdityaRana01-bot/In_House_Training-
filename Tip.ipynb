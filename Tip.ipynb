{
 "cells": [
  {
   "cell_type": "code",
   "execution_count": null,
   "id": "b9dd73b6-3f81-4e97-aa85-9c00b022ee7d",
   "metadata": {},
   "outputs": [
    {
     "name": "stdout",
     "output_type": "stream",
     "text": [
      "Restaurant Tip Simulator\n"
     ]
    }
   ],
   "source": [
    "print(\"Restaurant Tip Simulator\")\n",
    "bill_amount = float(input(\"Enter the total bill amount: ₹\"))\n",
    "friends = int(input(\"Enter number of friends splitting the bill: \"))\n",
    "\n",
    "# Calculate base split\n",
    "split_amount = bill_amount / friends\n",
    "print(f\"Each person pays ₹{split_amount:.2f} before tip.\")\n",
    "\n",
    "# Choose tip percentage\n",
    "print(\"\\nChoose tip percentage:\")\n",
    "print(\"1. 10%\")\n",
    "print(\"2. 20%\")\n",
    "print(\"3. 30%\")\n",
    "print(\"4. 40%\")\n",
    "print(\"5. 50%\")\n",
    "\n",
    "tip_choice = int(input(\"Enter choice (1-5): \"))\n",
    "\n",
    "# Convert choice to actual percentage\n",
    "tip_percent = tip_choice * 10\n",
    "\n",
    "tip_amount = (bill_amount * tip_percent) / 100\n",
    "total_with_tip = bill_amount + tip_amount\n",
    "final_split = total_with_tip / friends\n",
    "\n",
    "print(f\"\\n Tip selected: {tip_percent}%\")\n",
    "print(f\"Tip amount: ₹{tip_amount:.2f}\")\n",
    "print(f\"Total bill with tip: ₹{total_with_tip:.2f}\")\n",
    "print(f\"Each person pays ₹{final_split:.2f} including tip.\")"
   ]
  },
  {
   "cell_type": "code",
   "execution_count": null,
   "id": "6b6d2aef-f78d-4499-98b3-1c445d268ea2",
   "metadata": {},
   "outputs": [],
   "source": []
  }
 ],
 "metadata": {
  "kernelspec": {
   "display_name": "Python 3 (ipykernel)",
   "language": "python",
   "name": "python3"
  },
  "language_info": {
   "codemirror_mode": {
    "name": "ipython",
    "version": 3
   },
   "file_extension": ".py",
   "mimetype": "text/x-python",
   "name": "python",
   "nbconvert_exporter": "python",
   "pygments_lexer": "ipython3",
   "version": "3.13.5"
  }
 },
 "nbformat": 4,
 "nbformat_minor": 5
}
