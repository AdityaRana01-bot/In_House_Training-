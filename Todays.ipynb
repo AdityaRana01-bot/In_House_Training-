{
 "cells": [
  {
   "cell_type": "code",
   "execution_count": 56,
   "id": "e5f3e5df-4b5b-4c74-bc5f-1a9b0f938f0d",
   "metadata": {},
   "outputs": [
    {
     "name": "stdout",
     "output_type": "stream",
     "text": [
      "Hello, Aditya Rana\n"
     ]
    }
   ],
   "source": [
    "def greeting(name):\n",
    "    print(\"Hello, \" + name )\n",
    "greeting(\"Aditya Rana\")"
   ]
  },
  {
   "cell_type": "code",
   "execution_count": 57,
   "id": "39228f0b-964b-4c24-b4d6-3b616cfae9dc",
   "metadata": {},
   "outputs": [
    {
     "name": "stdin",
     "output_type": "stream",
     "text": [
      "Enter first number:  36\n",
      "Enter second number:  36\n"
     ]
    },
    {
     "name": "stdout",
     "output_type": "stream",
     "text": [
      "The sum is: 72\n"
     ]
    }
   ],
   "source": [
    "def add():\n",
    "   a=int(input(\"Enter first number: \"))\n",
    "   b=int(input(\"Enter second number: \"))\n",
    "   return a + b\n",
    "print(\"The sum is:\", add())"
   ]
  },
  {
   "cell_type": "code",
   "execution_count": 59,
   "id": "15e4b9d2-4241-44a9-84c0-74950e5ef269",
   "metadata": {},
   "outputs": [
    {
     "name": "stdout",
     "output_type": "stream",
     "text": [
      "My name is ('Aadi', 'Rana')\n"
     ]
    }
   ],
   "source": [
    "def Aadi(*Rambo):\n",
    "        print(f\"My name is {Rambo}\")\n",
    "Aadi(\"Aadi\",\"Rana\")"
   ]
  },
  {
   "cell_type": "code",
   "execution_count": 60,
   "id": "0b7e4592-5ec2-48a2-9c90-1fe3ba606f99",
   "metadata": {},
   "outputs": [
    {
     "name": "stdout",
     "output_type": "stream",
     "text": [
      " My name is {'Aditya': 'Rana'}\n"
     ]
    }
   ],
   "source": [
    "def Aditya(**Rana):\n",
    "      print(f\" My name is {Rana}\")\n",
    "Aditya(Aditya=\"Rana\")"
   ]
  },
  {
   "cell_type": "code",
   "execution_count": null,
   "id": "7561d316-f723-467d-994c-141d32878a77",
   "metadata": {},
   "outputs": [],
   "source": []
  }
 ],
 "metadata": {
  "kernelspec": {
   "display_name": "Python 3 (ipykernel)",
   "language": "python",
   "name": "python3"
  },
  "language_info": {
   "codemirror_mode": {
    "name": "ipython",
    "version": 3
   },
   "file_extension": ".py",
   "mimetype": "text/x-python",
   "name": "python",
   "nbconvert_exporter": "python",
   "pygments_lexer": "ipython3",
   "version": "3.13.5"
  }
 },
 "nbformat": 4,
 "nbformat_minor": 5
}
