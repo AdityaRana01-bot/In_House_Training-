{
 "cells": [
  {
   "cell_type": "markdown",
   "id": "be9315e3-f995-4b84-9371-253d49f5aedc",
   "metadata": {},
   "source": [
    "## 1. Create a parent class animal with a method speak() and print a generic message by making child class and print\"bark\" ."
   ]
  },
  {
   "cell_type": "code",
   "execution_count": 1,
   "id": "bcd290c3-791c-453d-a57f-e5554e6e81e0",
   "metadata": {},
   "outputs": [
    {
     "name": "stdout",
     "output_type": "stream",
     "text": [
      "Bark!\n"
     ]
    }
   ],
   "source": [
    "class Animal:\n",
    "    def speak(self):\n",
    "        print(\"Generic animal sound\")\n",
    "\n",
    "class Dog(Animal):\n",
    "    def speak(self):\n",
    "        print(\"Bark!\")\n",
    "\n",
    "dog = Dog()\n",
    "dog.speak()"
   ]
  },
  {
   "cell_type": "markdown",
   "id": "6af137e2-d4b8-49c5-9cb5-53f5d94b553f",
   "metadata": {},
   "source": [
    "## 2.Write a program to create an abstract class Shape with a method area(). Derive classes Circle and Rectangle from it and implement the area() method in both.\n",
    "\n"
   ]
  },
  {
   "cell_type": "code",
   "execution_count": 5,
   "id": "0b769cdc-e34a-4363-9aad-aeccf25c010e",
   "metadata": {},
   "outputs": [
    {
     "name": "stdout",
     "output_type": "stream",
     "text": [
      "78.53981633974483\n",
      "20\n"
     ]
    }
   ],
   "source": [
    "class Shape(ABC):\n",
    "    @abstractmethod\n",
    "    def area(self):\n",
    "        pass\n",
    "\n",
    "class Circle(Shape):\n",
    "    def __init__(self, radius):\n",
    "        self.radius = radius\n",
    "\n",
    "    def area(self):\n",
    "        return math.pi * (self.radius ** 2)\n",
    "\n",
    "class Rectangle(Shape):\n",
    "    def __init__(self, length, width):\n",
    "        self.length = length\n",
    "        self.width = width\n",
    "\n",
    "    def area(self):\n",
    "        return self.length * self.width\n",
    "\n",
    "circle = Circle(5)\n",
    "print(circle.area()) \n",
    "\n",
    "rectangle = Rectangle(4, 5)\n",
    "print(rectangle.area()) "
   ]
  },
  {
   "cell_type": "markdown",
   "id": "4cd78e05-5f6e-400f-8075-cd3eda07e0f5",
   "metadata": {},
   "source": [
    "## 3. Implement a multi-level inheritance scenario where a class Vehicle has an attribute type. Derive a class Car and further derive a class ElectricCar that adds a battery attribute.\n"
   ]
  },
  {
   "cell_type": "code",
   "execution_count": 23,
   "id": "65f107b2-c868-4b05-92cb-519403290d5a",
   "metadata": {},
   "outputs": [
    {
     "name": "stdout",
     "output_type": "stream",
     "text": [
      "Car Tesla 75 kWh\n"
     ]
    }
   ],
   "source": [
    "class Vehicle:\n",
    "    def __init__(self, type):\n",
    "        self.type = type\n",
    "\n",
    "class Car(Vehicle):\n",
    "    def __init__(self, type, brand):\n",
    "        super().__init__(type)\n",
    "        self.brand = brand\n",
    "\n",
    "class ElectricCar(Car):\n",
    "    def __init__(self, type, brand, battery):\n",
    "        super().__init__(type, brand)\n",
    "        self.battery = battery\n",
    "\n",
    "electric_car = ElectricCar(\"Car\", \"Tesla\", \"75 kWh\")\n",
    "print(electric_car.type, electric_car.brand, electric_car.battery)"
   ]
  },
  {
   "cell_type": "markdown",
   "id": "06781996-679e-490a-ba64-3e1631b568b5",
   "metadata": {},
   "source": [
    "## 4.Demonstrate polymorphism by creating a base class Bird with a method fly(). Create two derived classes Sparrow and Penguin that override the fly() method."
   ]
  },
  {
   "cell_type": "code",
   "execution_count": 7,
   "id": "0ed8fba0-6169-426e-9975-047caae35b42",
   "metadata": {},
   "outputs": [
    {
     "name": "stdout",
     "output_type": "stream",
     "text": [
      "Sparrow flies\n",
      "pengiun flies\n"
     ]
    }
   ],
   "source": [
    "class Bird:\n",
    "    def fly(self):\n",
    "        print(\"Bird flies\")\n",
    "\n",
    "class Sparrow(Bird):\n",
    "    def fly(self):\n",
    "        print(\"Sparrow flies\")\n",
    "\n",
    "class pengiun(Bird):\n",
    "    def fly(self):\n",
    "        print(\"pengiun flies\")\n",
    "\n",
    "sparrow = Sparrow()\n",
    "sparrow.fly()  \n",
    "\n",
    "pengiun = pengiun()\n",
    "pengiun.fly()\n"
   ]
  },
  {
   "cell_type": "markdown",
   "id": "87510280-878c-407d-9d3e-e0bc595da657",
   "metadata": {},
   "source": [
    "## 5. Write a program to demonstrate encapsulation by creating a class BankAccount with private attributes balance and methods to deposit, withdraw, and check balance."
   ]
  },
  {
   "cell_type": "code",
   "execution_count": 9,
   "id": "e9904af1-6b3d-46d1-bc1f-868593ef1418",
   "metadata": {},
   "outputs": [
    {
     "name": "stdout",
     "output_type": "stream",
     "text": [
      "551\n"
     ]
    }
   ],
   "source": [
    "class BankAccount:\n",
    "    def __init__(self, balance):\n",
    "        self.__balance = balance\n",
    "\n",
    "    def deposit(self, amount):\n",
    "        self.__balance += amount\n",
    "\n",
    "    def get_balance(self):\n",
    "        return self.__balance\n",
    "\n",
    "account = BankAccount(501)\n",
    "account.deposit(50)\n",
    "print(account.get_balance())  "
   ]
  },
  {
   "cell_type": "markdown",
   "id": "0577fcc0-3ee5-47db-aa66-b7d725e69702",
   "metadata": {},
   "source": [
    "## 6. Demonstrate runtime polymorphism using a method play() in a base class Instrument. Derive classes Guitar and Piano that implement their own version of play()."
   ]
  },
  {
   "cell_type": "code",
   "execution_count": 10,
   "id": "7bf5997c-f283-4b37-9525-3d6f3ea15681",
   "metadata": {},
   "outputs": [
    {
     "name": "stdout",
     "output_type": "stream",
     "text": [
      "Guitar plays\n"
     ]
    }
   ],
   "source": [
    "class Instrument:\n",
    "    def play(self):\n",
    "        print(\"Instrument plays\")\n",
    "\n",
    "class Guitar(Instrument):\n",
    "    def play(self):\n",
    "        print(\"Guitar plays\")\n",
    "\n",
    "guitar = Guitar()\n",
    "guitar.play()  "
   ]
  },
  {
   "cell_type": "markdown",
   "id": "6d7318db-8b36-4cd0-9117-10dcf388c9f9",
   "metadata": {},
   "source": [
    "## 7. Create a class MathOperations with a class method add_numbers() to add two numbers and a static method subtract_numbers() to subtract two numbers."
   ]
  },
  {
   "cell_type": "code",
   "execution_count": 11,
   "id": "683b0395-4e0d-4d72-a38e-358e38f274bf",
   "metadata": {},
   "outputs": [
    {
     "name": "stdout",
     "output_type": "stream",
     "text": [
      "5\n"
     ]
    }
   ],
   "source": [
    "class Math:\n",
    "    @staticmethod\n",
    "    def add(a, b):\n",
    "        return a + b\n",
    "\n",
    "print(Math.add(2, 3))  "
   ]
  },
  {
   "cell_type": "markdown",
   "id": "11c349c5-e8f9-40d0-a780-3dbf90dcdb6a",
   "metadata": {},
   "source": [
    "## 8. Implement a class Person with a class method to count the total number of persons created."
   ]
  },
  {
   "cell_type": "code",
   "execution_count": 15,
   "id": "7b801f94-a01d-4418-99ce-8e206ff92e6c",
   "metadata": {},
   "outputs": [
    {
     "name": "stdout",
     "output_type": "stream",
     "text": [
      "2\n"
     ]
    }
   ],
   "source": [
    "class Person:\n",
    "    count = 0\n",
    "\n",
    "    def __init__(self):\n",
    "        Person.count += 1\n",
    "\n",
    "    @classmethod\n",
    "    def get_count(cls):\n",
    "        return cls.count\n",
    "\n",
    "person1 = Person()\n",
    "person2 = Person()\n",
    "print(Person.get_count())  "
   ]
  },
  {
   "cell_type": "markdown",
   "id": "a34eaed4-2f23-4b5a-a130-2c6296900215",
   "metadata": {},
   "source": [
    "## 9. Write a class Fraction with attributes numerator and denominator. Override the str method to display the fraction as \"numerator/denominator\"."
   ]
  },
  {
   "cell_type": "code",
   "execution_count": 19,
   "id": "4627b8fc-3587-491d-b397-97892ae3a94f",
   "metadata": {},
   "outputs": [
    {
     "name": "stdout",
     "output_type": "stream",
     "text": [
      "3/4\n"
     ]
    }
   ],
   "source": [
    "class Fraction:\n",
    "    def __init__(self, num, den):\n",
    "        self.num = num\n",
    "        self.den = den\n",
    "\n",
    "    def __str__(self):\n",
    "        return f\"{self.num}/{self.den}\"\n",
    "\n",
    "fraction = Fraction(3, 4)\n",
    "print(fraction) "
   ]
  },
  {
   "cell_type": "markdown",
   "id": "d7353f05-8a9b-4a64-ad13-8a13af5e14a3",
   "metadata": {},
   "source": [
    "## 10. Demonstrate operator overloading by creating a class Vector and overriding the add method to add two vectors."
   ]
  },
  {
   "cell_type": "code",
   "execution_count": 25,
   "id": "3e65cb49-b6ae-4bf7-b022-30b853b67b4d",
   "metadata": {},
   "outputs": [
    {
     "name": "stdout",
     "output_type": "stream",
     "text": [
      "(6, 8)\n"
     ]
    }
   ],
   "source": [
    "class Vector:\n",
    "    def __init__(self, x, y):\n",
    "        self.x = x\n",
    "        self.y = y\n",
    "\n",
    "    def __add__(self, other):\n",
    "        return Vector(self.x + other.x, self.y + other.y)\n",
    "\n",
    "    def __str__(self):\n",
    "        return f\"({self.x}, {self.y})\"\n",
    "\n",
    "v1 = Vector(2, 3)\n",
    "v2 = Vector(4, 5)\n",
    "v3 = v1 + v2\n",
    "print(v3)"
   ]
  },
  {
   "cell_type": "markdown",
   "id": "c320a67f-ce90-42e9-ae9b-23ff65d16155",
   "metadata": {},
   "source": [
    "## 11. create a class Person with attributes name and age. Add a method greet() that prints \"Hello, my name is {name} and I am {age} years old.\""
   ]
  },
  {
   "cell_type": "code",
   "execution_count": 32,
   "id": "f576a7ba-2b4d-4985-93fd-8a6937f5c2bd",
   "metadata": {},
   "outputs": [
    {
     "name": "stdout",
     "output_type": "stream",
     "text": [
      "Hello, my name is Jatin and I am 30 years old.\n"
     ]
    }
   ],
   "source": [
    "class Person:\n",
    "    def __init__(self, name, age):\n",
    "        self.name = name\n",
    "        self.age = age\n",
    "\n",
    "    def greet(self):\n",
    "        print(f\"Hello, my name is {self.name} and I am {self.age} years old.\")\n",
    "\n",
    "person = Person(\"Jatin\", 30)\n",
    "person.greet()"
   ]
  },
  {
   "cell_type": "markdown",
   "id": "1ff4f808-0c93-46d5-9cbf-d8d4ee95e0fa",
   "metadata": {},
   "source": [
    "## 12. Implement a class Student with attributes name and grades. Create a method average_grade() to compute the average of the grades."
   ]
  },
  {
   "cell_type": "code",
   "execution_count": 31,
   "id": "184a7f88-7401-434f-8ff4-08c29ec36c85",
   "metadata": {},
   "outputs": [
    {
     "name": "stdout",
     "output_type": "stream",
     "text": [
      "87.5\n"
     ]
    }
   ],
   "source": [
    "class Student:\n",
    "    def __init__(self, name, grades):\n",
    "        self.name = name\n",
    "        self.grades = grades\n",
    "\n",
    "    def average_grade(self):\n",
    "        return sum(self.grades) / len(self.grades)\n",
    "\n",
    "student = Student(\"jatin\", [90, 85])\n",
    "print(student.average_grade()) "
   ]
  },
  {
   "cell_type": "markdown",
   "id": "d346edde-42af-44d1-bb64-37a2d453ff76",
   "metadata": {},
   "source": [
    "## 13. Create a class Rectangle with methods set_dimensions() to set the dimensions and area() to calculate the area."
   ]
  },
  {
   "cell_type": "code",
   "execution_count": 34,
   "id": "66140dad-860b-4b8c-82c1-6e3c4fa7d9e0",
   "metadata": {},
   "outputs": [
    {
     "name": "stdout",
     "output_type": "stream",
     "text": [
      "20\n"
     ]
    }
   ],
   "source": [
    "class Rectangle:\n",
    "    def __init__(self):\n",
    "        self.length = 0\n",
    "        self.width = 0\n",
    "\n",
    "    def set_dimensions(self, length, width):\n",
    "        self.length = length\n",
    "        self.width = width\n",
    "\n",
    "    def area(self):\n",
    "        return self.length * self.width\n",
    "\n",
    "rectangle = Rectangle()\n",
    "rectangle.set_dimensions(5, 4)\n",
    "print(rectangle.area())"
   ]
  },
  {
   "cell_type": "markdown",
   "id": "77e93bbb-37cc-4f74-8106-1a1435946a59",
   "metadata": {},
   "source": [
    "## 14. Create a class Product with attributes name, price, and quantity. Implement a method total_price() that calculates the total price of the product."
   ]
  },
  {
   "cell_type": "code",
   "execution_count": 35,
   "id": "0886ddea-c226-47a9-b6f6-46aa9cb6f54b",
   "metadata": {},
   "outputs": [
    {
     "name": "stdout",
     "output_type": "stream",
     "text": [
      "Total price: 2000\n"
     ]
    }
   ],
   "source": [
    "class Product:\n",
    "    def __init__(self, name, price, quantity):\n",
    "        self.name = name\n",
    "        self.price = price\n",
    "        self.quantity = quantity\n",
    "\n",
    "    def total_price(self):\n",
    "        return self.price * self.quantity\n",
    "\n",
    "product = Product(\"Laptop\", 1000, 2)\n",
    "print(\"Total price:\", product.total_price())"
   ]
  },
  {
   "cell_type": "code",
   "execution_count": null,
   "id": "66f6438a-94cd-4922-ab57-a2aff233099e",
   "metadata": {},
   "outputs": [],
   "source": []
  }
 ],
 "metadata": {
  "kernelspec": {
   "display_name": "Python 3 (ipykernel)",
   "language": "python",
   "name": "python3"
  },
  "language_info": {
   "codemirror_mode": {
    "name": "ipython",
    "version": 3
   },
   "file_extension": ".py",
   "mimetype": "text/x-python",
   "name": "python",
   "nbconvert_exporter": "python",
   "pygments_lexer": "ipython3",
   "version": "3.13.5"
  }
 },
 "nbformat": 4,
 "nbformat_minor": 5
}
